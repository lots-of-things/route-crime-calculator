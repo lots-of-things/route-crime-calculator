{
 "cells": [
  {
   "cell_type": "code",
   "execution_count": 19,
   "metadata": {
    "collapsed": true
   },
   "outputs": [],
   "source": [
    "%matplotlib inline\n",
    "import csv\n",
    "import math\n",
    "import datetime\n",
    "import numpy as np\n",
    "import matplotlib.pyplot as plt\n",
    "from pylab import hist2d"
   ]
  },
  {
   "cell_type": "code",
   "execution_count": 2,
   "metadata": {
    "collapsed": true
   },
   "outputs": [],
   "source": [
    "import matplotlib as mpl\n",
    "cmapp = mpl.colors.LinearSegmentedColormap.from_list('my_cmap',['blue','red'],256)\n",
    "cmapp._init()\n",
    "alphas = np.linspace(0, 0.8, cmapp.N+3)\n",
    "cmapp._lut[:,-1] = alphas"
   ]
  },
  {
   "cell_type": "code",
   "execution_count": 3,
   "metadata": {
    "collapsed": true
   },
   "outputs": [],
   "source": [
    "def datetime_range(start=None, end=None):\n",
    "    span = end - start\n",
    "    for i in xrange(span.days + 1):\n",
    "        yield start + datetime.timedelta(days=i)"
   ]
  },
  {
   "cell_type": "code",
   "execution_count": 4,
   "metadata": {
    "collapsed": true
   },
   "outputs": [],
   "source": [
    "hr_bin = 3.0;\n",
    "\n",
    "datX = []\n",
    "datL = []\n",
    "with open('input/crimes.csv', 'rb') as csvfile:\n",
    "    reader = csv.reader(csvfile, delimiter=',')\n",
    "    for dat in reader:\n",
    "        try:\n",
    "            tim = datetime.datetime.strptime(dat[2], \"%m/%d/%Y %I:%M:%S %p\")\n",
    "            lat = float(dat[19])\n",
    "            lng = float(dat[20])\n",
    "            datX.append([lat,lng,tim.hour,tim.weekday(),tim.month,tim.year])\n",
    "            datL.append([dat[5],dat[7]])\n",
    "        except:\n",
    "            pass\n",
    "X = np.array(datX);\n",
    "L = np.array(datL);"
   ]
  },
  {
   "cell_type": "code",
   "execution_count": 5,
   "metadata": {
    "collapsed": false,
    "scrolled": true
   },
   "outputs": [],
   "source": [
    "L[np.char.find(L[:,1],'AIR')>=0,1]='AIRPORT'\n",
    "L[np.char.find(L[:,0],'NON')>=0,0]='NON-CRIMINAL'\n",
    "L[np.char.find(L[:,1],'CTA')>=0,1]='CTA'\n",
    "\n",
    "keep = np.logical_or(np.char.find(L[:,1],'STREET')>=0,np.logical_or(np.char.find(L[:,1],'SIDEWALK')>=0,np.logical_or(L[:,1]=='OTHER',np.logical_or(np.char.find(L[:,1],'LOT/GARAGE')>=0,np.logical_or(L[:,1]=='ALLEY',np.char.find(L[:,1],'CTA')>=0)))))\n",
    "keep = np.logical_and(keep, np.logical_not(np.logical_or(np.char.find(L[:,0],'ARSON')>=0,np.logical_or(np.char.find(L[:,0],'CARRY')>=0,np.logical_or(np.char.find(L[:,0],'HUMAN')>=0,np.logical_or(np.char.find(L[:,0],'INDECENCY')>=0,np.logical_or(np.char.find(L[:,0],'LIQUOR')>=0,np.logical_or(np.char.find(L[:,0],'GAMBLING')>=0,np.logical_or(np.char.find(L[:,0],'PROSTITUTION')>=0,np.logical_or(np.char.find(L[:,0],'STALKING')>=0,np.logical_or(np.char.find(L[:,0],'KIDNAPPING')>=0,np.logical_or(np.char.find(L[:,0],'INTIMIDATION')>=0,np.logical_or(np.char.find(L[:,0],'OBSCENITY')>=0,np.char.find(L[:,0],'NARCOTICS')>=0)))))))))))))\n",
    "keep = np.logical_and(keep,X[:,1]>-87.9)\n",
    "L=L[keep,:]\n",
    "X=X[keep,:]"
   ]
  },
  {
   "cell_type": "code",
   "execution_count": 6,
   "metadata": {
    "collapsed": false
   },
   "outputs": [],
   "source": [
    "H, yedges, xedges = np.histogram2d(X[:,0], X[:,1], bins=80)"
   ]
  },
  {
   "cell_type": "code",
   "execution_count": 7,
   "metadata": {
    "collapsed": false
   },
   "outputs": [
    {
     "data": {
      "image/png": "[encoded data removed]",
      "text/plain": [
       "<matplotlib.figure.Figure at 0x7fd4e8fa9290>"
      ]
     },
     "metadata": {},
     "output_type": "display_data"
    }
   ],
   "source": [
    "plt.imshow(H,cmap=cmapp,interpolation='none',origin='low',\n",
    "                extent=[xedges[0], xedges[-1], yedges[0], yedges[-1]])\n",
    "plt.colorbar();"
   ]
  },
  {
   "cell_type": "code",
   "execution_count": 8,
   "metadata": {
    "collapsed": false
   },
   "outputs": [],
   "source": [
    "fX = X\n",
    "from scipy import interpolate\n",
    "f_x = interpolate.interp1d(xedges, xedges,kind='nearest')\n",
    "fX[:,1] = f_x(fX[:,1])\n",
    "\n",
    "f_y = interpolate.interp1d(yedges, yedges,kind='nearest')\n",
    "fX[:,0] = f_y(fX[:,0])\n",
    "\n",
    "fX[:,2]=np.floor(fX[:,2]/hr_bin)*hr_bin"
   ]
  },
  {
   "cell_type": "code",
   "execution_count": 9,
   "metadata": {
    "collapsed": false
   },
   "outputs": [],
   "source": [
    "# This method sucks but I used it for a while thinking I was being so numpy-brilliant\n",
    "# setX ={tuple(row) for row in X}\n",
    "# binX = np.vstack(temX)\n",
    "# binY = np.zeros((binX.shape[0],1))\n",
    "# for i in range(binX.shape[0]):\n",
    "#     binY[i,0] = (~np.any(X- binX[i], 1)).sum()"
   ]
  },
  {
   "cell_type": "code",
   "execution_count": 10,
   "metadata": {
    "collapsed": false
   },
   "outputs": [],
   "source": [
    "mak = {}\n",
    "for row in fX:\n",
    "    v = tuple(row)\n",
    "    if(v in mak):\n",
    "        mak[v]=mak[v]+1\n",
    "    else:\n",
    "        mak[v]=1.\n",
    "makk = np.vstack(mak.items())\n",
    "binX = np.vstack(makk[:,0])\n",
    "binY = np.vstack(makk[:,1])"
   ]
  },
  {
   "cell_type": "code",
   "execution_count": 11,
   "metadata": {
    "collapsed": false
   },
   "outputs": [],
   "source": [
    "cntT = {}\n",
    "for tim in datetime_range(datetime.datetime(2001, 1, 1),datetime.datetime(2014, 1, 1)):\n",
    "    tup = (tim.weekday(),tim.month)\n",
    "    if(tup in cntT):\n",
    "        cntT[tup]=cntT[tup]+1\n",
    "    else:\n",
    "        cntT[tup]=1."
   ]
  },
  {
   "cell_type": "code",
   "execution_count": 12,
   "metadata": {
    "collapsed": false
   },
   "outputs": [],
   "source": [
    "for i in range(binY.shape[0]):\n",
    "    n=cntT[(binX[i,3],binX[i,4])]\n",
    "    binY[i]=float(binY[i])/n/hr_bin"
   ]
  },
  {
   "cell_type": "code",
   "execution_count": 13,
   "metadata": {
    "collapsed": true
   },
   "outputs": [],
   "source": [
    "r_num = 800000\n",
    "r_lat = 41.65+np.random.uniform(size=r_num)*0.35\n",
    "r_off = np.random.uniform(size=r_num)*0.2\n",
    "r_lon = -87.55 - (r_lat-41.75)/0.25*0.1 - r_off\n",
    "r_hr = np.random.randint(24/hr_bin,size=r_num)*hr_bin\n",
    "r_dy = np.random.randint(7,size=r_num)\n",
    "r_mn = np.random.randint(1,13,size=r_num)\n",
    "\n",
    "addX = np.array([r_lat,r_lon,r_hr,r_dy,r_mn]).T\n",
    "addX = addX[addX[:,1]<=-87.55,:]"
   ]
  },
  {
   "cell_type": "code",
   "execution_count": 14,
   "metadata": {
    "collapsed": false
   },
   "outputs": [],
   "source": [
    "addH, yedges, xedges = np.histogram2d(addX[:,0], addX[:,1], bins=80)\n",
    "plt.imshow(addH,cmap=cmapp,interpolation='none',origin='low',\n",
    "                extent=[xedges[0], xedges[-1], yedges[0], yedges[-1]])\n",
    "plt.colorbar();"
   ]
  },
  {
   "cell_type": "code",
   "execution_count": 15,
   "metadata": {
    "collapsed": false
   },
   "outputs": [],
   "source": [
    "addX[:,1] = f_x(addX[:,1])\n",
    "addX[:,0] = f_y(addX[:,0])\n",
    "temX = np.vstack({tuple(row) for row in addX}.difference(makk[:,0]))"
   ]
  },
  {
   "cell_type": "code",
   "execution_count": 16,
   "metadata": {
    "collapsed": true
   },
   "outputs": [],
   "source": [
    "finX = np.vstack((binX,temX))\n",
    "finY = np.vstack((binY,np.zeros((temX.shape[0],1))))"
   ]
  },
  {
   "cell_type": "code",
   "execution_count": null,
   "metadata": {
    "collapsed": true
   },
   "outputs": [],
   "source": [
    "import sklearn.ensemble as ske\n",
    "rfr = ske.RandomForestRegressor(n_estimators=100)\n",
    "\n",
    "from sklearn.svm import SVR\n",
    "svr_rbf = SVR(kernel='rbf', C=1e3, gamma=0.1)\n",
    "svr_lin = SVR(kernel='linear', C=1e3)\n",
    "svr_poly = SVR(kernel='poly', C=1e3, degree=2)"
   ]
  },
  {
   "cell_type": "code",
   "execution_count": null,
   "metadata": {
    "collapsed": false
   },
   "outputs": [],
   "source": [
    "scors = []\n",
    "fracs = [0.1,0.2,0.3,0.4,0.5,0.6]\n",
    "for samplefrac in fracs:\n",
    "    print samplefrac\n",
    "    samples = np.random.rand(finY.shape[0])<samplefrac\n",
    "    X_train = finX[samples, :]\n",
    "    X_test = finX[np.invert(samples), :]\n",
    "    Y_train = np.ravel(finY[samples])\n",
    "    Y_test = np.ravel(finY[np.invert(samples)])\n",
    "\n",
    "    \n",
    "    \n",
    "#     s_rbf = svr_rbf.fit(X_train, Y_train).score(X_test,Y_test)\n",
    "#     s_lin = svr_lin.fit(X_train, Y_train).score(X_test,Y_test)\n",
    "#     s_poly = svr_poly.fit(X_train, Y_train).score(X_test,Y_test)\n",
    "    s_rfr = rfr.fit(X_train,Y_train).score(X_test,Y_test)\n",
    "    scors.append([s_rfr])"
   ]
  },
  {
   "cell_type": "code",
   "execution_count": null,
   "metadata": {
    "collapsed": false
   },
   "outputs": [],
   "source": [
    "plt.plot([0.1,0.2,0.3,0.4,0.5,0.6],scors)"
   ]
  }
 ],
 "metadata": {
  "kernelspec": {
   "display_name": "Python 2",
   "language": "python",
   "name": "python2"
  },
  "language_info": {
   "codemirror_mode": {
    "name": "ipython",
    "version": 2
   },
   "file_extension": ".py",
   "mimetype": "text/x-python",
   "name": "python",
   "nbconvert_exporter": "python",
   "pygments_lexer": "ipython2",
   "version": "2.7.10"
  }
 },
 "nbformat": 4,
 "nbformat_minor": 0
}
