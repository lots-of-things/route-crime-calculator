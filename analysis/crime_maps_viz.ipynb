{
 "cells": [
  {
   "cell_type": "code",
   "execution_count": 1,
   "metadata": {
    "collapsed": true
   },
   "outputs": [],
   "source": [
    "%matplotlib inline\n",
    "import csv\n",
    "import math\n",
    "import datetime\n",
    "import numpy as np\n",
    "import matplotlib.pyplot as plt\n",
    "from pylab import hist2d"
   ]
  },
  {
   "cell_type": "code",
   "execution_count": null,
   "metadata": {
    "collapsed": true
   },
   "outputs": [],
   "source": [
    "import matplotlib as mpl\n",
    "\n",
    "cmapp = mpl.colors.LinearSegmentedColormap.from_list('my_cmap',['blue','red'],256)\n",
    "cmapp._init()\n",
    "alphas = np.linspace(0, 0.8, cmapp.N+3)\n",
    "cmapp._lut[:,-1] = alphas"
   ]
  },
  {
   "cell_type": "code",
   "execution_count": null,
   "metadata": {
    "collapsed": false
   },
   "outputs": [],
   "source": [
    "datX = []\n",
    "datL = []\n",
    "with open('input/crimes.csv', 'rb') as csvfile:\n",
    "    reader = csv.reader(csvfile, delimiter=',')\n",
    "    for dat in reader:\n",
    "        try:\n",
    "            tim = datetime.datetime.strptime(dat[2], \"%m/%d/%Y %I:%M:%S %p\")\n",
    "            lat = float(dat[19])\n",
    "            lng = float(dat[20])\n",
    "            datX.append([lat,lng,tim.hour,tim.weekday(),tim.month])\n",
    "            datL.append([dat[5],dat[7]])\n",
    "        except:\n",
    "            pass\n",
    "X = np.array(datX);\n",
    "L = np.array(datL);"
   ]
  },
  {
   "cell_type": "code",
   "execution_count": null,
   "metadata": {
    "collapsed": false
   },
   "outputs": [],
   "source": [
    "L[np.char.find(L[:,1],'AIR')>=0,1]='AIRPORT'\n",
    "L[np.char.find(L[:,0],'NON')>=0,0]='NON-CRIMINAL'\n",
    "L[np.char.find(L[:,1],'CTA')>=0,1]='CTA'\n",
    "\n",
    "keep = np.logical_or(np.char.find(L[:,1],'STREET')>=0,np.logical_or(np.char.find(L[:,1],'SIDEWALK')>=0,np.logical_or(L[:,1]=='OTHER',np.logical_or(np.char.find(L[:,1],'LOT/GARAGE')>=0,np.logical_or(L[:,1]=='ALLEY',np.char.find(L[:,1],'CTA')>=0)))))\n",
    "keep = np.logical_and(keep, np.logical_not(np.logical_or(np.char.find(L[:,0],'ARSON')>=0,np.logical_or(np.char.find(L[:,0],'CARRY')>=0,np.logical_or(np.char.find(L[:,0],'HUMAN')>=0,np.logical_or(np.char.find(L[:,0],'INDECENCY')>=0,np.logical_or(np.char.find(L[:,0],'LIQUOR')>=0,np.logical_or(np.char.find(L[:,0],'GAMBLING')>=0,np.logical_or(np.char.find(L[:,0],'PROSTITUTION')>=0,np.logical_or(np.char.find(L[:,0],'STALKING')>=0,np.logical_or(np.char.find(L[:,0],'KIDNAPPING')>=0,np.logical_or(np.char.find(L[:,0],'INTIMIDATION')>=0,np.logical_or(np.char.find(L[:,0],'OBSCENITY')>=0,np.char.find(L[:,0],'MOTOR')>=0)))))))))))))\n",
    "L=L[keep,:]\n",
    "X=X[keep,:]"
   ]
  },
  {
   "cell_type": "code",
   "execution_count": null,
   "metadata": {
    "collapsed": true
   },
   "outputs": [],
   "source": [
    "from collections import Counter\n",
    "\n",
    "L0_h = Counter(L[:,0])\n",
    "L0_l, L0_v = zip(*L0_h.items())\n",
    "L0_l = np.array(L0_l)\n",
    "L0_v = np.array(L0_v)\n",
    "L0_i = np.arange(L0_l.size)\n",
    "\n",
    "L0_s = np.argsort(L0_v)\n",
    "L0_l = L0_l[L0_s]\n",
    "L0_v = L0_v[L0_s]\n",
    "\n",
    "L1_h = Counter(L[:,1])\n",
    "L1_l, L1_v = zip(*L1_h.items())\n",
    "L1_l = np.array(L1_l)\n",
    "L1_v = np.array(L1_v)\n",
    "L1_i = np.arange(L1_l.size)\n",
    "\n",
    "L1_s = np.argsort(L1_v)\n",
    "L1_l = L1_l[L1_s]\n",
    "L1_v = L1_v[L1_s]"
   ]
  },
  {
   "cell_type": "code",
   "execution_count": null,
   "metadata": {
    "collapsed": true
   },
   "outputs": [],
   "source": [
    "L_h = np.zeros((L0_l.size,L1_l.size))\n",
    "for l in L:\n",
    "    i0 = np.where(L0_l==l[0]);\n",
    "    i1 = np.where(L1_l==l[1]);\n",
    "    L_h[i0,i1]=L_h[i0,i1]+1"
   ]
  },
  {
   "cell_type": "code",
   "execution_count": null,
   "metadata": {
    "collapsed": true
   },
   "outputs": [],
   "source": [
    "L_h = L_h/np.mean(L_h,axis=0)[np.newaxis, :]"
   ]
  },
  {
   "cell_type": "code",
   "execution_count": null,
   "metadata": {
    "collapsed": false
   },
   "outputs": [],
   "source": [
    "fig = plt.figure(figsize=(20,5))\n",
    "plt.imshow(L_h, interpolation='none')\n",
    "plt.yticks(range(len(L0_l)),L0_l);\n",
    "plt.xticks(range(len(L1_l)),L1_l,rotation='vertical');"
   ]
  },
  {
   "cell_type": "code",
   "execution_count": null,
   "metadata": {
    "collapsed": false
   },
   "outputs": [],
   "source": [
    "plt.figure(figsize=(8,8))\n",
    "plt.subplot(221)\n",
    "hist2d(X[:,1],X[:,0],bins=100, cmap=cmapp);\n",
    "plt.title(\"in public\")\n",
    "\n",
    "subind = L[:,0]=='NARCOTICS'\n",
    "plt.subplot(222)\n",
    "hist2d(X[subind,1],X[subind,0],bins=100, cmap=cmapp);\n",
    "plt.title(\"narco\")\n",
    "\n",
    "\n",
    "subind = np.char.find(L[:,1],'CTA')>=0\n",
    "plt.subplot(223)\n",
    "hist2d(X[subind,1],X[subind,0],bins=100, cmap=cmapp);\n",
    "plt.title(\"CTA\")\n",
    "\n",
    "subind = np.logical_or(L[:,0]=='THEFT',np.logical_or(L[:,0]=='ROBBERY',L[:,0]=='ASSAULT'))\n",
    "plt.subplot(224)\n",
    "hist2d(X[subind,1],X[subind,0],bins=100, cmap=cmapp);\n",
    "plt.title('theft,robbery,assault')"
   ]
  },
  {
   "cell_type": "code",
   "execution_count": null,
   "metadata": {
    "collapsed": false
   },
   "outputs": [],
   "source": [
    "#http://stackoverflow.com/questions/8218608/scipy-savefig-without-frames-axes-only-content\n",
    "fig = plt.figure(frameon=False)\n",
    "fig.set_size_inches(4,4)\n",
    "ax = plt.Axes(fig, [0., 0., 1., 1.])\n",
    "ax.set_axis_off()\n",
    "fig.add_axes(ax)\n",
    "hist2d(X[:,1],X[:,0],bins=100, cmap=cmapp);\n",
    "fig.savefig('data.png', 200)"
   ]
  },
  {
   "cell_type": "code",
   "execution_count": null,
   "metadata": {
    "collapsed": true
   },
   "outputs": [],
   "source": []
  }
 ],
 "metadata": {
  "kernelspec": {
   "display_name": "Python 2",
   "language": "python",
   "name": "python2"
  },
  "language_info": {
   "codemirror_mode": {
    "name": "ipython",
    "version": 2
   },
   "file_extension": ".py",
   "mimetype": "text/x-python",
   "name": "python",
   "nbconvert_exporter": "python",
   "pygments_lexer": "ipython2",
   "version": "2.7.10"
  }
 },
 "nbformat": 4,
 "nbformat_minor": 0
}
