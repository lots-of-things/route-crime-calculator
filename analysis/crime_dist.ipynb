{
 "cells": [
  {
   "cell_type": "code",
   "execution_count": 1,
   "metadata": {
    "collapsed": true
   },
   "outputs": [],
   "source": [
    "%matplotlib inline\n",
    "import csv\n",
    "import math\n",
    "import datetime\n",
    "import numpy as np\n",
    "import matplotlib.pyplot as plt\n",
    "from pylab import hist2d"
   ]
  },
  {
   "cell_type": "code",
   "execution_count": 2,
   "metadata": {
    "collapsed": true
   },
   "outputs": [],
   "source": [
    "#http://stackoverflow.com/questions/10127284/overlay-imshow-plots-in-matplotlib\n",
    "import matplotlib as mpl\n",
    "cmapp = mpl.colors.LinearSegmentedColormap.from_list('my_cmap',['blue','red'],256)\n",
    "cmapp._init()\n",
    "alphas = np.linspace(0, 0.8, cmapp.N+3)\n",
    "cmapp._lut[:,-1] = alphas"
   ]
  },
  {
   "cell_type": "code",
   "execution_count": 3,
   "metadata": {
    "collapsed": true
   },
   "outputs": [],
   "source": [
    "#http://stackoverflow.com/questions/993358/creating-a-range-of-dates-in-python\n",
    "def datetime_range(start=None, end=None):\n",
    "    span = end - start\n",
    "    for i in xrange(span.days + 1):\n",
    "        yield start + datetime.timedelta(days=i)"
   ]
  },
  {
   "cell_type": "code",
   "execution_count": 4,
   "metadata": {
    "collapsed": true
   },
   "outputs": [],
   "source": [
    "# dear god, how i wish i'd used pandas\n",
    "\n",
    "hr_bin = 3.0;\n",
    "\n",
    "datX = []\n",
    "datL = []\n",
    "with open('input/crimes.csv', 'rb') as csvfile:\n",
    "    reader = csv.reader(csvfile, delimiter=',')\n",
    "    for dat in reader:\n",
    "        try:\n",
    "            tim = datetime.datetime.strptime(dat[2], \"%m/%d/%Y %I:%M:%S %p\")\n",
    "            lat = float(dat[19])\n",
    "            lng = float(dat[20])\n",
    "            datX.append([lat,lng,tim.hour,tim.weekday(),tim.month,tim.year])\n",
    "            datL.append([dat[5],dat[7]])\n",
    "        except:\n",
    "            pass\n",
    "X = np.array(datX);\n",
    "L = np.array(datL);"
   ]
  },
  {
   "cell_type": "code",
   "execution_count": 6,
   "metadata": {
    "collapsed": false,
    "scrolled": true
   },
   "outputs": [],
   "source": [
    "L[np.char.find(L[:,1],'AIR')>=0,1]='AIRPORT'\n",
    "L[np.char.find(L[:,0],'NON')>=0,0]='NON-CRIMINAL'\n",
    "L[np.char.find(L[:,1],'CTA')>=0,1]='CTA'\n",
    "\n",
    "keep = np.logical_or(np.char.find(L[:,1],'STREET')>=0,np.logical_or(np.char.find(L[:,1],'SIDEWALK')>=0,np.logical_or(L[:,1]=='OTHER',np.logical_or(np.char.find(L[:,1],'LOT/GARAGE')>=0,np.logical_or(L[:,1]=='ALLEY',np.char.find(L[:,1],'CTA')>=0)))))\n",
    "keep = np.logical_and(keep, np.logical_not(np.logical_or(np.char.find(L[:,0],'ARSON')>=0,np.logical_or(np.char.find(L[:,0],'CARRY')>=0,np.logical_or(np.char.find(L[:,0],'HUMAN')>=0,np.logical_or(np.char.find(L[:,0],'INDECENCY')>=0,np.logical_or(np.char.find(L[:,0],'LIQUOR')>=0,np.logical_or(np.char.find(L[:,0],'GAMBLING')>=0,np.logical_or(np.char.find(L[:,0],'PROSTITUTION')>=0,np.logical_or(np.char.find(L[:,0],'STALKING')>=0,np.logical_or(np.char.find(L[:,0],'KIDNAPPING')>=0,np.logical_or(np.char.find(L[:,0],'INTIMIDATION')>=0,np.logical_or(np.char.find(L[:,0],'OBSCENITY')>=0,np.char.find(L[:,0],'NARCOTICS')>=0)))))))))))))\n",
    "keep = np.logical_and(keep,np.logical_and(X[:,1]>-87.9,X[:,5]<2015))\n",
    "L=L[keep,:]\n",
    "X=X[keep,:]"
   ]
  },
  {
   "cell_type": "code",
   "execution_count": 7,
   "metadata": {
    "collapsed": false
   },
   "outputs": [],
   "source": [
    "H, yedges, xedges = np.histogram2d(X[:,0], X[:,1], bins=80)"
   ]
  },
  {
   "cell_type": "code",
   "execution_count": 8,
   "metadata": {
    "collapsed": false
   },
   "outputs": [
    {
     "data": {
      "image/png": "[encoded data removed]",
      "text/plain": [
       "<matplotlib.figure.Figure at 0x7f1175632d50>"
      ]
     },
     "metadata": {},
     "output_type": "display_data"
    }
   ],
   "source": [
    "plt.imshow(H,cmap=cmapp,interpolation='none',origin='low',\n",
    "                extent=[xedges[0], xedges[-1], yedges[0], yedges[-1]])\n",
    "plt.colorbar();"
   ]
  },
  {
   "cell_type": "code",
   "execution_count": 9,
   "metadata": {
    "collapsed": false
   },
   "outputs": [],
   "source": [
    "fX = X\n",
    "from scipy import interpolate\n",
    "f_x = interpolate.interp1d(xedges, xedges,kind='nearest')\n",
    "fX[:,1] = f_x(fX[:,1])\n",
    "\n",
    "f_y = interpolate.interp1d(yedges, yedges,kind='nearest')\n",
    "fX[:,0] = f_y(fX[:,0])\n",
    "\n",
    "fX[:,2]=np.floor(fX[:,2]/hr_bin)*hr_bin"
   ]
  },
  {
   "cell_type": "code",
   "execution_count": 10,
   "metadata": {
    "collapsed": false
   },
   "outputs": [],
   "source": [
    "mak = {}\n",
    "for row in fX:\n",
    "    v = tuple(row)\n",
    "    if(v in mak):\n",
    "        mak[v]=mak[v]+1\n",
    "    else:\n",
    "        mak[v]=1.\n",
    "makk = np.vstack(mak.items())\n",
    "binX = np.vstack(makk[:,0])\n",
    "binY = np.vstack(makk[:,1])"
   ]
  },
  {
   "cell_type": "code",
   "execution_count": 11,
   "metadata": {
    "collapsed": false
   },
   "outputs": [],
   "source": [
    "cntT = {}\n",
    "for tim in datetime_range(datetime.datetime(2001, 1, 1),datetime.datetime(2014, 1, 1)):\n",
    "    tup = (tim.weekday(),tim.month)\n",
    "    if(tup in cntT):\n",
    "        cntT[tup]=cntT[tup]+1\n",
    "    else:\n",
    "        cntT[tup]=1."
   ]
  },
  {
   "cell_type": "code",
   "execution_count": 12,
   "metadata": {
    "collapsed": false
   },
   "outputs": [],
   "source": [
    "for i in range(binY.shape[0]):\n",
    "    n=cntT[(binX[i,3],binX[i,4])]\n",
    "    binY[i]=float(binY[i])/n/hr_bin"
   ]
  },
  {
   "cell_type": "code",
   "execution_count": null,
   "metadata": {
    "collapsed": false
   },
   "outputs": [],
   "source": [
    "#this is sooo clunky and stupid, but can't figure better way to convert np.arrays into dicts\n",
    "import json\n",
    "for h in set(binX[:,2]):\n",
    "    for d in set(binX[:,3]):\n",
    "        for m in set(binX[:,4]):\n",
    "            dic = {'latS':yedges[0],'lonW':xedges[1],'dlat':yedges[1]-yedges[0],'dlon':xedges[1]-xedges[0]}\n",
    "            ind1 = np.logical_and(binX[:,2]==h,np.logical_and(binX[:,3]==d,binX[:,4]==m))\n",
    "            for (lat,lon) in set(tuple(map(tuple, binX[ind1,:2]))):\n",
    "                la = int(round((lat-dic['latS'])/dic['dlat']))\n",
    "                lo = int(round((lon-dic['lonW'])/dic['dlon']))\n",
    "                if la not in dic:\n",
    "                    dic[la]={}\n",
    "                inds = np.logical_and(ind1,np.logical_and(binX[:,0]==lat,binX[:,1]==lon))\n",
    "                dic[la][lo]={'avg':np.sum(binY[inds])/14.,'max':np.max(binY[inds])}\n",
    "            nm = 'output/dataM%02dD%02dH%02d.json' % (m,d,h)\n",
    "            with open(nm, 'w') as outfile:\n",
    "                json.dump(dic, outfile)"
   ]
  },
  {
   "cell_type": "code",
   "execution_count": null,
   "metadata": {
    "collapsed": false
   },
   "outputs": [],
   "source": [
    "dic"
   ]
  },
  {
   "cell_type": "code",
   "execution_count": null,
   "metadata": {
    "collapsed": true
   },
   "outputs": [],
   "source": []
  }
 ],
 "metadata": {
  "kernelspec": {
   "display_name": "Python 2",
   "language": "python",
   "name": "python2"
  },
  "language_info": {
   "codemirror_mode": {
    "name": "ipython",
    "version": 2
   },
   "file_extension": ".py",
   "mimetype": "text/x-python",
   "name": "python",
   "nbconvert_exporter": "python",
   "pygments_lexer": "ipython2",
   "version": "2.7.10"
  }
 },
 "nbformat": 4,
 "nbformat_minor": 0
}
